{
 "cells": [
  {
   "cell_type": "markdown",
   "id": "solar-swing",
   "metadata": {
    "tags": []
   },
   "source": [
    "# SSD Tutorial\n",
    "\n",
    "This notebook provides a tutorial for running inference on a static image in order to detect objects.\n",
    "The implementation of the [SingleShotDetectorLearner](https://github.com/opendr-eu/opendr/blob/master/docs/reference/object-detection-2d-ssd.md) is largely copied from its original\n",
    "[implementation](https://github.com/dmlc/gluon-cv/tree/master/scripts/detection/ssd).\n",
    "More information on modifications and license can be found\n",
    "[here](https://github.com/opendr-eu/opendr/blob/master/src/opendr/perception/object_detection_2d/ssd/README.md)."
   ]
  },
  {
   "cell_type": "markdown",
   "id": "wireless-afghanistan",
   "metadata": {},
   "source": [
    "First, we need to import the learner and initialize it:"
   ]
  },
  {
   "cell_type": "code",
   "execution_count": null,
   "id": "c2586a45",
   "metadata": {},
   "outputs": [],
   "source": [
    "from opendr.perception.object_detection_2d import SingleShotDetectorLearner\n",
    "\n",
    "learner = SingleShotDetectorLearner(device='cuda', backbone='vgg16_atrous')"
   ]
  },
  {
   "cell_type": "markdown",
   "id": "lyric-closing",
   "metadata": {},
   "source": [
    "Note that we can alter the device (e.g., 'cpu', 'cuda', etc.), on which the model runs, as well as the backbone\n",
    "architecture from a variety of options (e.g. 'resnet50', 'resnet101', etc.)."
   ]
  },
  {
   "cell_type": "markdown",
   "id": "pregnant-martial",
   "metadata": {},
   "source": [
    "After creating our model, we need to download pre-trained weights."
   ]
  },
  {
   "cell_type": "code",
   "execution_count": null,
   "id": "serious-gilbert",
   "metadata": {
    "scrolled": true
   },
   "outputs": [],
   "source": [
    "learner.download(\".\")"
   ]
  },
  {
   "cell_type": "markdown",
   "id": "4bc8245c",
   "metadata": {},
   "source": [
    "and load our weights:"
   ]
  },
  {
   "cell_type": "code",
   "execution_count": null,
   "id": "a9b06c2f",
   "metadata": {},
   "outputs": [],
   "source": [
    "learner.load(\"./ssd_default_person\", verbose=True)"
   ]
  },
  {
   "cell_type": "markdown",
   "id": "baking-alliance",
   "metadata": {},
   "source": [
    "We will also download one sample image and load it, so we can use it in OpenDR for testing:"
   ]
  },
  {
   "cell_type": "code",
   "execution_count": null,
   "id": "14c47035",
   "metadata": {},
   "outputs": [],
   "source": [
    "learner.download(\".\", mode=\"images\")\n",
    "\n",
    "from opendr.engine.data import Image\n",
    "img = Image.open(\"./people.jpg\")"
   ]
  },
  {
   "cell_type": "code",
   "execution_count": null,
   "id": "5345020f",
   "metadata": {},
   "outputs": [],
   "source": [
    "%matplotlib inline\n",
    "import cv2\n",
    "from matplotlib import pyplot as plt\n",
    "plt.imshow(cv2.cvtColor(img.opencv(), cv2.COLOR_BGR2RGB))"
   ]
  },
  {
   "cell_type": "markdown",
   "id": "liked-substance",
   "metadata": {},
   "source": [
    "We are now ready to use our model!\n",
    "The only thing that we have to do is to pass the image through the model.\n",
    "Note that there are standard data types supported by OpenDR.\n",
    "However, OpenDR also understands common data types (e.g,. OpenCV images) and automatically converts them into the most\n",
    "appropriate format:"
   ]
  },
  {
   "cell_type": "code",
   "execution_count": null,
   "id": "bigger-negative",
   "metadata": {
    "scrolled": true
   },
   "outputs": [],
   "source": [
    "detections = learner.infer(img)"
   ]
  },
  {
   "cell_type": "markdown",
   "id": "dd0486aa",
   "metadata": {
    "pycharm": {
     "name": "#%% md\n"
    }
   },
   "source": [
    "We can plot the results using a utility function from the Object-Detection-2D module:"
   ]
  },
  {
   "cell_type": "code",
   "execution_count": null,
   "id": "5faf49e5",
   "metadata": {
    "pycharm": {
     "name": "#%%\n"
    },
    "scrolled": true
   },
   "outputs": [],
   "source": [
    "from opendr.perception.object_detection_2d import draw_bounding_boxes\n",
    "\n",
    "img_annotated = draw_bounding_boxes(img.opencv(), detections, class_names=learner.classes, show=False)\n",
    "\n",
    "\n",
    "%matplotlib inline\n",
    "from matplotlib import pyplot as plt\n",
    "plt.imshow(cv2.cvtColor(img_annotated, cv2.COLOR_BGR2RGB))"
   ]
  }
 ],
 "metadata": {
  "kernelspec": {
   "display_name": "Python 3 (ipykernel)",
   "language": "python",
   "name": "python3"
  },
  "language_info": {
   "codemirror_mode": {
    "name": "ipython",
    "version": 3
   },
   "file_extension": ".py",
   "mimetype": "text/x-python",
   "name": "python",
   "nbconvert_exporter": "python",
   "pygments_lexer": "ipython3",
   "version": "3.8.10"
  }
 },
 "nbformat": 4,
 "nbformat_minor": 5
}
